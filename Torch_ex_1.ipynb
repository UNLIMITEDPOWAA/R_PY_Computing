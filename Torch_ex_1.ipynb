{
  "nbformat": 4,
  "nbformat_minor": 0,
  "metadata": {
    "colab": {
      "name": "Torch_ex_1.ipynb",
      "version": "0.3.2",
      "provenance": [],
      "collapsed_sections": [],
      "include_colab_link": true
    },
    "kernelspec": {
      "name": "python3",
      "display_name": "Python 3"
    }
  },
  "cells": [
    {
      "cell_type": "markdown",
      "metadata": {
        "id": "view-in-github",
        "colab_type": "text"
      },
      "source": [
        "<a href=\"https://colab.research.google.com/github/UNLIMITEDPOWAA/R_PY_Computing/blob/master/Torch_ex_1.ipynb\" target=\"_parent\"><img src=\"https://colab.research.google.com/assets/colab-badge.svg\" alt=\"Open In Colab\"/></a>"
      ]
    },
    {
      "cell_type": "code",
      "metadata": {
        "id": "XpgNRyJEjHDf",
        "colab_type": "code",
        "colab": {}
      },
      "source": [
        "import torch\n",
        "import torch.nn as nn\n",
        "import torch.optim as optim\n",
        "import torch.nn.init as init\n",
        "\n",
        "num_data = 1000\n",
        "num_epoch = 500\n",
        "\n",
        "x = init.uniform_(torch.Tensor(num_data,1),-10,10)\n",
        "noise = init.normal_(torch.FloatTensor(num_data,1),std=1)\n",
        "y = 2*x+3\n",
        "y_noise = 2*(x+noise)+3\n",
        "\n",
        "model = nn.Linear(1,1)\n",
        "loss_func = nn.L1Loss()\n",
        "optimizer = optim.SGD(model.parameters(),lr=0.01)"
      ],
      "execution_count": 0,
      "outputs": []
    },
    {
      "cell_type": "code",
      "metadata": {
        "id": "U0ezyUIlj6mo",
        "colab_type": "code",
        "outputId": "2dd59950-6ba7-4a80-8837-859db4c1a004",
        "colab": {
          "base_uri": "https://localhost:8080/",
          "height": 1000
        }
      },
      "source": [
        "label = y_noise\n",
        "for i in range(num_epoch):\n",
        "  optimizer.zero_grad()\n",
        "  output = model(x)\n",
        "\n",
        "  loss = loss_func(output,label)\n",
        "  loss.backward()\n",
        "  optimizer.step()\n",
        "\n",
        "  if i % 10 == 0:\n",
        "    print(loss.data)\n",
        "    param_list = list(model.parameters())\n",
        "    print(param_list[0].item(),param_list[1].item())"
      ],
      "execution_count": 0,
      "outputs": [
        {
          "output_type": "stream",
          "text": [
            "tensor(1.5809)\n",
            "2.0142064094543457 2.6560089588165283\n",
            "tensor(1.5791)\n",
            "2.0131819248199463 2.669268846511841\n",
            "tensor(1.5775)\n",
            "2.012497663497925 2.6817891597747803\n",
            "tensor(1.5761)\n",
            "2.0122103691101074 2.693708658218384\n",
            "tensor(1.5748)\n",
            "2.0124380588531494 2.7052087783813477\n",
            "tensor(1.5735)\n",
            "2.01172137260437 2.71636962890625\n",
            "tensor(1.5723)\n",
            "2.0103230476379395 2.7272701263427734\n",
            "tensor(1.5711)\n",
            "2.0088162422180176 2.738130569458008\n",
            "tensor(1.5701)\n",
            "2.008108615875244 2.7481908798217773\n",
            "tensor(1.5691)\n",
            "2.0083327293395996 2.7577919960021973\n",
            "tensor(1.5682)\n",
            "2.007650852203369 2.767192840576172\n",
            "tensor(1.5674)\n",
            "2.0073413848876953 2.7765536308288574\n",
            "tensor(1.5665)\n",
            "2.0083353519439697 2.7857742309570312\n",
            "tensor(1.5657)\n",
            "2.0092222690582275 2.7948546409606934\n",
            "tensor(1.5649)\n",
            "2.009913682937622 2.8038549423217773\n",
            "tensor(1.5641)\n",
            "2.011108160018921 2.812654972076416\n",
            "tensor(1.5633)\n",
            "2.0110723972320557 2.821274757385254\n",
            "tensor(1.5626)\n",
            "2.0105319023132324 2.829674243927002\n",
            "tensor(1.5620)\n",
            "2.010195255279541 2.8375942707061768\n",
            "tensor(1.5613)\n",
            "2.009310007095337 2.8454151153564453\n",
            "tensor(1.5607)\n",
            "2.0090508460998535 2.8530960083007812\n",
            "tensor(1.5602)\n",
            "2.009568214416504 2.8602962493896484\n",
            "tensor(1.5597)\n",
            "2.0096187591552734 2.8670358657836914\n",
            "tensor(1.5593)\n",
            "2.0097057819366455 2.873615264892578\n",
            "tensor(1.5589)\n",
            "2.0089449882507324 2.8798742294311523\n",
            "tensor(1.5585)\n",
            "2.008479356765747 2.8860936164855957\n",
            "tensor(1.5582)\n",
            "2.0079047679901123 2.8919944763183594\n",
            "tensor(1.5579)\n",
            "2.0081379413604736 2.897474765777588\n",
            "tensor(1.5576)\n",
            "2.0079476833343506 2.902754783630371\n",
            "tensor(1.5573)\n",
            "2.0077426433563232 2.9075541496276855\n",
            "tensor(1.5571)\n",
            "2.007537603378296 2.912353515625\n",
            "tensor(1.5569)\n",
            "2.0081675052642822 2.917052745819092\n",
            "tensor(1.5567)\n",
            "2.008617401123047 2.9212729930877686\n",
            "tensor(1.5566)\n",
            "2.009119749069214 2.925093412399292\n",
            "tensor(1.5564)\n",
            "2.0094544887542725 2.92893385887146\n",
            "tensor(1.5563)\n",
            "2.009793996810913 2.932554006576538\n",
            "tensor(1.5561)\n",
            "2.010096788406372 2.9361541271209717\n",
            "tensor(1.5560)\n",
            "2.010399580001831 2.9397542476654053\n",
            "tensor(1.5559)\n",
            "2.01070237159729 2.943354368209839\n",
            "tensor(1.5558)\n",
            "2.01112961769104 2.9468343257904053\n",
            "tensor(1.5556)\n",
            "2.0116398334503174 2.9502341747283936\n",
            "tensor(1.5555)\n",
            "2.0121500492095947 2.953634023666382\n",
            "tensor(1.5554)\n",
            "2.012660264968872 2.95703387260437\n",
            "tensor(1.5553)\n",
            "2.012422800064087 2.960153341293335\n",
            "tensor(1.5552)\n",
            "2.0122807025909424 2.963132619857788\n",
            "tensor(1.5551)\n",
            "2.011936902999878 2.9658524990081787\n",
            "tensor(1.5551)\n",
            "2.011580228805542 2.968392848968506\n",
            "tensor(1.5550)\n",
            "2.011343240737915 2.9706335067749023\n",
            "tensor(1.5550)\n",
            "2.0109217166900635 2.9727940559387207\n",
            "tensor(1.5549)\n",
            "2.0107405185699463 2.9748945236206055\n"
          ],
          "name": "stdout"
        }
      ]
    },
    {
      "cell_type": "code",
      "metadata": {
        "id": "QOS0KEB95ocG",
        "colab_type": "code",
        "colab": {}
      },
      "source": [
        ""
      ],
      "execution_count": 0,
      "outputs": []
    }
  ]
}