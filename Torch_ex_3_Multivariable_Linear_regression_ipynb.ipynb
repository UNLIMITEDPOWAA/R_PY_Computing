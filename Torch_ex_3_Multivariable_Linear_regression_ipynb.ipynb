{
  "nbformat": 4,
  "nbformat_minor": 0,
  "metadata": {
    "colab": {
      "name": "Torch_ex_3_Multivariable_Linear_regression.ipynb.ipynb",
      "version": "0.3.2",
      "provenance": [],
      "include_colab_link": true
    },
    "kernelspec": {
      "name": "python3",
      "display_name": "Python 3"
    }
  },
  "cells": [
    {
      "cell_type": "markdown",
      "metadata": {
        "id": "view-in-github",
        "colab_type": "text"
      },
      "source": [
        "<a href=\"https://colab.research.google.com/github/UNLIMITEDPOWAA/R_PY_Computing/blob/master/Torch_ex_3_Multivariable_Linear_regression_ipynb.ipynb\" target=\"_parent\"><img src=\"https://colab.research.google.com/assets/colab-badge.svg\" alt=\"Open In Colab\"/></a>"
      ]
    },
    {
      "cell_type": "code",
      "metadata": {
        "id": "btVt40Tvd6-v",
        "colab_type": "code",
        "colab": {}
      },
      "source": [
        "import torch\n",
        "import torch.nn as nn\n",
        "import torch.nn.functional as F\n",
        "import torch.optim as optim\n",
        "\n",
        "class MultivariateLinearRegressionModel(nn.Module):\n",
        "    def __init__(self):\n",
        "        super().__init__()\n",
        "        self.linear = nn.Linear(3, 1)\n",
        "\n",
        "    def forward(self, x):\n",
        "        return self.linear(x)"
      ],
      "execution_count": 0,
      "outputs": []
    },
    {
      "cell_type": "code",
      "metadata": {
        "id": "XcN3ewlVeEOb",
        "colab_type": "code",
        "colab": {}
      },
      "source": [
        "## 데이터 정의\n",
        "x_train = torch.FloatTensor([[73, 80, 75],\n",
        "                             [93, 88, 93],\n",
        "                             [89, 91, 90],\n",
        "                             [96, 98, 100],\n",
        "                             [73, 66, 70]])\n",
        "y_train = torch.FloatTensor([[152],[185],[180],[196],[142]])\n",
        "\n",
        "##모델 초기화\n",
        "#W = torch.zeros((3,1), requires_grad = True)  #바꾸기전\n",
        "#b = torch.zeros((1), requires_grad = True)\n",
        "\n",
        "model = MultivariateLinearRegressionModel()\n",
        "\n",
        "## Optimizer 설정\n",
        "optimizer = optim.SGD(model.parameters(), lr=1e-5)"
      ],
      "execution_count": 0,
      "outputs": []
    },
    {
      "cell_type": "code",
      "metadata": {
        "id": "KFpFUZixewVl",
        "colab_type": "code",
        "outputId": "2b8f25ad-31d8-4a86-8c52-fba5cd741dcb",
        "colab": {
          "base_uri": "https://localhost:8080/",
          "height": 209
        }
      },
      "source": [
        "nb_epochs = 20\n",
        "for epoch in range(nb_epochs + 1):\n",
        "  # H(x) 계산\n",
        "  #hypothesis = x_train.matmul(W) + b\n",
        "  prediction = model(x_train)\n",
        "  # cost 계산\n",
        "  #cost = torch.mean((hypothesis - y_train) **2)   ## MSE\n",
        "  cost = F.mse_loss(prediction, y_train)\n",
        "  # cost로 H(x) 개\n",
        "  optimizer.zero_grad()  ## gradient zero로 초기화\n",
        "  cost.backward()        ## backward로 gradient 계산\n",
        "  optimizer.step()       ## step()으로 개선\n",
        "\n",
        "  if epoch % 2 == 0:     ##생존신고\n",
        "    print('Epoch {:4d}/{} Cost: {:.6f}'.format(\n",
        "        epoch, nb_epochs, cost.item()\n",
        "    ))"
      ],
      "execution_count": 41,
      "outputs": [
        {
          "output_type": "stream",
          "text": [
            "Epoch    0/20 Cost: 1.539724\n",
            "Epoch    2/20 Cost: 1.539474\n",
            "Epoch    4/20 Cost: 1.539262\n",
            "Epoch    6/20 Cost: 1.539022\n",
            "Epoch    8/20 Cost: 1.538779\n",
            "Epoch   10/20 Cost: 1.538558\n",
            "Epoch   12/20 Cost: 1.538308\n",
            "Epoch   14/20 Cost: 1.538082\n",
            "Epoch   16/20 Cost: 1.537840\n",
            "Epoch   18/20 Cost: 1.537614\n",
            "Epoch   20/20 Cost: 1.537385\n"
          ],
          "name": "stdout"
        }
      ]
    },
    {
      "cell_type": "code",
      "metadata": {
        "id": "Lh1o8SP6f_VR",
        "colab_type": "code",
        "colab": {}
      },
      "source": [
        ""
      ],
      "execution_count": 0,
      "outputs": []
    }
  ]
}