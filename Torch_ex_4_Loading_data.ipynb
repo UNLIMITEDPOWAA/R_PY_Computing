{
  "nbformat": 4,
  "nbformat_minor": 0,
  "metadata": {
    "colab": {
      "name": "Torch_ex_4_Loading_data.ipynb",
      "version": "0.3.2",
      "provenance": [],
      "include_colab_link": true
    },
    "kernelspec": {
      "name": "python3",
      "display_name": "Python 3"
    }
  },
  "cells": [
    {
      "cell_type": "markdown",
      "metadata": {
        "id": "view-in-github",
        "colab_type": "text"
      },
      "source": [
        "<a href=\"https://colab.research.google.com/github/UNLIMITEDPOWAA/R_PY_Computing/blob/master/Torch_ex_4_Loading_data.ipynb\" target=\"_parent\"><img src=\"https://colab.research.google.com/assets/colab-badge.svg\" alt=\"Open In Colab\"/></a>"
      ]
    },
    {
      "cell_type": "code",
      "metadata": {
        "id": "btVt40Tvd6-v",
        "colab_type": "code",
        "colab": {}
      },
      "source": [
        "import torch\n",
        "import torch.nn as nn\n",
        "import torch.nn.functional as F\n",
        "import torch.optim as optim\n",
        "from torch.utils.data import Dataset\n",
        "from torch.utils.data import DataLoader\n",
        "\n",
        "class MultivariateLinearRegressionModel(nn.Module):\n",
        "    def __init__(self):\n",
        "        super().__init__()\n",
        "        self.linear = nn.Linear(3, 1)\n",
        "\n",
        "    def forward(self, x):\n",
        "        return self.linear(x)\n",
        "\n",
        "class CustomDataset(Dataset):\n",
        "  def __init__(self):\n",
        "    self.x_data =  [[73, 80, 75],\n",
        "                    [93, 88, 93],\n",
        "                    [89, 91, 90],\n",
        "                    [96, 98, 100],\n",
        "                    [73, 66, 70]]\n",
        "    self.y_data =  [[152], [185], [180], [196], [142]]\n",
        "  \n",
        "\n",
        "  \n",
        "  def __len__(self):    ## 이 데이터셋의 총 데이터수\n",
        "    return len(self.x_data)\n",
        "\n",
        "  def __getitem__(self, idx):  ## 어떠한 인덱스 idx를 받았을 때, 그에 상응하는 입출력 데이터를 torch.FloatTensor로 반환\n",
        "    x = torch.FloatTensor(self.x_data[idx])\n",
        "    y = torch.FloatTensor(self.y_data[idx])\n",
        "\n",
        "    return x,y\n",
        "\n",
        "dataset = CustomDataset()\n",
        "\n",
        "dataloader = DataLoader(\n",
        "    dataset,\n",
        "    batch_size = 2,    #각 미니배치 크기(통상적으로 2배수)\n",
        "    shuffle = True,    # Epoch마다 데이터셋 섞어서 데이터 학습 순서 바꿈\n",
        ")"
      ],
      "execution_count": 0,
      "outputs": []
    },
    {
      "cell_type": "code",
      "metadata": {
        "id": "Lh1o8SP6f_VR",
        "colab_type": "code",
        "outputId": "f8300843-bee3-450d-8884-f43a3e640188",
        "colab": {
          "base_uri": "https://localhost:8080/",
          "height": 1000
        }
      },
      "source": [
        "nb_epochs = 20\n",
        "for epoch in range(nb_epochs + 1):\n",
        "  for batch_idx, samples in enumerate(dataloader):\n",
        "    x_train, y_train = samples\n",
        "    # H(x) 계산\n",
        "    prediction = model(x_train)\n",
        "\n",
        "    #cost 계산\n",
        "    cost = F.mse_loss(prediction, y_train)\n",
        "  \n",
        "    # cost로 H(x) 개선\n",
        "    optimizer.zero_grad()  ## gradient zero로 초기화\n",
        "    cost.backward()        ## backward로 gradient 계산\n",
        "    optimizer.step()       ## step()으로 개선\n",
        "\n",
        "    if epoch % 1 == 0:     ##생존신고\n",
        "      print('Epoch {:4d}/{} Cost: {:.6f}'.format(\n",
        "        epoch, nb_epochs, cost.item()\n",
        "      ))"
      ],
      "execution_count": 0,
      "outputs": [
        {
          "output_type": "stream",
          "text": [
            "Epoch    0/20 Cost: 0.239614\n",
            "Epoch    0/20 Cost: 2.372501\n",
            "Epoch    0/20 Cost: 5.237642\n",
            "Epoch    1/20 Cost: 1.206818\n",
            "Epoch    1/20 Cost: 4.064193\n",
            "Epoch    1/20 Cost: 0.127750\n",
            "Epoch    2/20 Cost: 3.387913\n",
            "Epoch    2/20 Cost: 0.061687\n",
            "Epoch    2/20 Cost: 0.884896\n",
            "Epoch    3/20 Cost: 3.505874\n",
            "Epoch    3/20 Cost: 0.399553\n",
            "Epoch    3/20 Cost: 0.000977\n",
            "Epoch    4/20 Cost: 3.446699\n",
            "Epoch    4/20 Cost: 0.358178\n",
            "Epoch    4/20 Cost: 0.301196\n",
            "Epoch    5/20 Cost: 1.773759\n",
            "Epoch    5/20 Cost: 2.616724\n",
            "Epoch    5/20 Cost: 0.342840\n",
            "Epoch    6/20 Cost: 1.794896\n",
            "Epoch    6/20 Cost: 2.590303\n",
            "Epoch    6/20 Cost: 0.349465\n",
            "Epoch    7/20 Cost: 2.367649\n",
            "Epoch    7/20 Cost: 0.457996\n",
            "Epoch    7/20 Cost: 3.870811\n",
            "Epoch    8/20 Cost: 1.447932\n",
            "Epoch    8/20 Cost: 3.781479\n",
            "Epoch    8/20 Cost: 0.109547\n",
            "Epoch    9/20 Cost: 2.677779\n",
            "Epoch    9/20 Cost: 2.751910\n",
            "Epoch    9/20 Cost: 0.233969\n",
            "Epoch   10/20 Cost: 2.501851\n",
            "Epoch   10/20 Cost: 2.908059\n",
            "Epoch   10/20 Cost: 0.212787\n",
            "Epoch   11/20 Cost: 0.058772\n",
            "Epoch   11/20 Cost: 3.378086\n",
            "Epoch   11/20 Cost: 0.870059\n",
            "Epoch   12/20 Cost: 1.989215\n",
            "Epoch   12/20 Cost: 3.029910\n",
            "Epoch   12/20 Cost: 0.482336\n",
            "Epoch   13/20 Cost: 1.516023\n",
            "Epoch   13/20 Cost: 2.652079\n",
            "Epoch   13/20 Cost: 0.626261\n",
            "Epoch   14/20 Cost: 2.301726\n",
            "Epoch   14/20 Cost: 2.866453\n",
            "Epoch   14/20 Cost: 0.541707\n",
            "Epoch   15/20 Cost: 0.409903\n",
            "Epoch   15/20 Cost: 1.747686\n",
            "Epoch   15/20 Cost: 5.111024\n",
            "Epoch   16/20 Cost: 0.435348\n",
            "Epoch   16/20 Cost: 1.502909\n",
            "Epoch   16/20 Cost: 5.726182\n",
            "Epoch   17/20 Cost: 0.443535\n",
            "Epoch   17/20 Cost: 1.381809\n",
            "Epoch   17/20 Cost: 5.876718\n",
            "Epoch   18/20 Cost: 0.958388\n",
            "Epoch   18/20 Cost: 3.404154\n",
            "Epoch   18/20 Cost: 0.137631\n",
            "Epoch   19/20 Cost: 1.425751\n",
            "Epoch   19/20 Cost: 3.402731\n",
            "Epoch   19/20 Cost: 0.358306\n",
            "Epoch   20/20 Cost: 3.375843\n",
            "Epoch   20/20 Cost: 0.440416\n",
            "Epoch   20/20 Cost: 0.236767\n"
          ],
          "name": "stdout"
        }
      ]
    },
    {
      "cell_type": "code",
      "metadata": {
        "id": "4R_FPk0KFs2U",
        "colab_type": "code",
        "colab": {}
      },
      "source": [
        ""
      ],
      "execution_count": 0,
      "outputs": []
    }
  ]
}